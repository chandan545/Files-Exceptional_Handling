{
  "nbformat": 4,
  "nbformat_minor": 0,
  "metadata": {
    "colab": {
      "provenance": []
    },
    "kernelspec": {
      "name": "python3",
      "display_name": "Python 3"
    },
    "language_info": {
      "name": "python"
    }
  },
  "cells": [
    {
      "cell_type": "markdown",
      "source": [
        "Files, exceptional handling, logging and\n",
        "memory management Questions"
      ],
      "metadata": {
        "id": "IJ1-F3oZjS2T"
      }
    },
    {
      "cell_type": "markdown",
      "source": [
        "1. What is the difference between interpreted and compiled languages?\n",
        "   - Interpreted Language:\n",
        "     - An interpreted language is a programming language where code is executed line by line by an interpreter, instead of being compiled into machine code beforehand.\n",
        "     - Interpreted language follows one step to get from source code to execution.\n",
        "     - The interpreted programs run slower than the compiled program.\n",
        "     - In Interpreted languages, the program cannot be compiled, it is interpreted.\n",
        "     - Example of Interpreted language – JavaScript, Perl, Python, BASIC, etc.\n",
        "\n",
        "   - Compiled Language:\n",
        "    - A compiled language is converted into machine code so that the processor can execute it.\n",
        "    - Compiled language follows at least two levels to get from source code to execution.\n",
        "    - The compiled programs run faster than interpreted programs.\n",
        "    - In a compiled language, the code can be executed by the CPU.\n",
        "    - This language delivers better performance.\n",
        "    - Example of compiled language – C, C++, C#, CLEO, COBOL, etc.\n",
        "\n",
        "2. What is exception handling in Python?\n",
        "   - Exception handling in Python is a way to deal with errors that may occur while a program is running. Instead of letting the program crash, you can \"catch\" the error and handle it in a controlled way.\n",
        "   - Key Components:\n",
        "     - try block: Contains the code that might raise an exception. The program runs the code inside the try block.\n",
        "     - except block: Catches the exception that occurs in the try block. You can specify the type of exception to catch (e.g., ValueError, IndexError, etc.).\n",
        "     - else block: Optional. If no exception occurs in the try block, the code in the else block is executed.\n",
        "     - finally block: Optional. This block always executes, regardless of whether an exception occurs or not. It is typically used for cleanup actions like closing files or releasing resources.\n",
        "\n",
        "3. What is the purpose of the finally block in exception handling?\n",
        "   - The finally block in exception handling is used to ensure that certain code always runs, no matter what happens, whether an error occurs or not. It’s typically used for clean-up actions, like closing files, releasing resources, or saving data.\n",
        "   - finally: It is used for tasks that must happen after the try block, regardless of whether an error occurred.\n",
        "\n",
        "4. What is logging in Python?\n",
        "   - Logging in Python is a way to track events that happen when your program runs. It helps you keep a record of what's happening in your program, such as errors, warnings, or other important information. This can be useful for debugging, monitoring, and understanding how your program is behaving over time.\n",
        "   - You can log different levels of messages: DEBUG, INFO, WARNING, ERROR, and CRITICAL.\n",
        "   - It's helpful for debugging and understanding your program's behavior.\n",
        "\n",
        "5. What is the significance of the __del__ method in Python?\n",
        "   - The __del__ method is used for cleaning up when an object is no longer needed, such as closing a file, releasing a network connection, or cleaning up memory.\n",
        "   - It’s not guaranteed when exactly it will be called (it depends on when Python's garbage collector decides to destroy the object).\n",
        "   - Example:\n",
        "           class MyClass:\n",
        "               def __del__(self):\n",
        "                   print(\"Object is being destroyed!\")\n",
        "\n",
        "           # Creating an object\n",
        "           obj = MyClass()\n",
        "\n",
        "           # Deleting the object\n",
        "           del obj  # This triggers the __del__ method\n",
        "\n",
        "           #output: Object is being destroyed!\n",
        "\n",
        "6. What is the difference between import and from ... import in Python?\n",
        "   - import:\n",
        "     - import is used to bring in an entire module.\n",
        "     - You then access functions, classes, or variables using the module name.\n",
        "     - Example:\n",
        "            import math\n",
        "            print(math.sqrt(16))  # Access sqrt() function from math module\n",
        "\n",
        "   - from ... import:\n",
        "     - from ... import allows you to import specific functions, classes, or variables directly from a module.\n",
        "     - You don't need to use the module name to access them.\n",
        "     - Example:\n",
        "            from math import sqrt\n",
        "            print(sqrt(16))  # Directly use sqrt() without math. prefix\n",
        "\n",
        "7. How can you handle multiple exceptions in Python?\n",
        "  - In Python, you can handle multiple exceptions by using multiple except blocks or by grouping exceptions together in a single except block.\n",
        "     - Using Multiple except Blocks:\n",
        "             try:\n",
        "                 # Code that might raise different types of exceptions\n",
        "                 num = int(input(\"Enter a number: \"))\n",
        "                 result = 10 / num\n",
        "             except ValueError:\n",
        "                 print(\"That's not a valid number!\")\n",
        "             except ZeroDivisionError:\n",
        "                 print(\"You can't divide by zero!\")\n",
        "                  \n",
        "    - Using a Single except Block for Multiple Exceptions:\n",
        "            try:\n",
        "                # Code that might raise different types of exceptions\n",
        "                num = int(input(\"Enter a number: \"))\n",
        "                result = 10 / num\n",
        "            except (ValueError, ZeroDivisionError) as e:\n",
        "                print(f\"An error occurred: {e}\")\n",
        "\n",
        "8. What is the purpose of the with statement when handling files in Python?\n",
        "   - The with statement simplifies file handling by automatically closing the file once you are done with it, without needing to explicitly call file.close().\n",
        "   - It is used to handle files safely, making sure they are always closed, even if an error happens while reading or writing.\n",
        "   - Example:\n",
        "           with open('example.txt', 'r') as file:\n",
        "               content = file.read()\n",
        "               print(content)\n",
        "\n",
        "9. What is the difference between multithreading and multiprocessing?\n",
        "   - Multithreading:\n",
        "     - Multithreading involves running multiple threads (smaller units of a process) within the same process. Threads share the same memory space.\n",
        "     - It allows a program to run multiple operations concurrently by using multiple threads that execute code in parallel within a single process.\n",
        "     - Multithreading is useful when you want to perform tasks like I/O operations (e.g., reading files, making network requests) simultaneously, as it can help avoid waiting time during I/O.\n",
        "\n",
        "  - Multiprocessing:\n",
        "    - Multiprocessing involves running multiple processes, each with its own memory space, and each process can run independently on different CPUs.\n",
        "    - It allows you to run code in parallel across multiple CPUs, taking full advantage of multi-core processors.\n",
        "    - Multiprocessing is best for CPU-bound tasks (e.g., complex calculations, data processing) where you want to utilize multiple CPU cores for faster execution.\n",
        "\n",
        "10. What are the advantages of using logging in a program?\n",
        "    - Logging helps you track what is happening in your program. If something goes wrong, you can check the log to understand what happened and fix it.\n",
        "    - It records important events in your program, like when something starts, finishes, or fails. This helps you know what happened and when.\n",
        "    - Logs help you spot errors and issues. If something breaks, you can see the error messages in the log.\n",
        "    - You can choose how much information to log, from basic messages to detailed debugging info.\n",
        "    - In real-world applications, where you can’t always watch the program, logging helps you check what happened after it runs.\n",
        "    - Logs are saved in files, so you can look at them later to understand what went wrong or track performance.\n",
        "\n",
        "11. What is memory management in Python?\n",
        "    - Memory management in Python refers to how the Python interpreter handles memory allocation and deallocation for your variables and objects. It ensures that memory is used efficiently and that unused memory is freed up.\n",
        "      - Automatic Memory Allocation: When you create a variable or object, Python automatically allocates memory for it.\n",
        "      - Garbage Collection: Python checks which objects are no longer needed (like when they go out of scope) and frees up that memory.\n",
        "      - Reference Counting: Python keeps track of how many references there are to an object. When there are no references left, the object is automatically deleted.\n",
        "\n",
        "12. What are the basic steps involved in exception handling in Python?\n",
        "    - Try: You write the code that might cause an error inside a try block. This is where Python will look for any potential issues.\n",
        "    - Except: If an error occurs in the try block, Python will jump to the except block. Here, you handle the error (e.g., print an error message or fix the issue).\n",
        "    - Else (optional): If no error occurs in the try block, the code in the else block will run. It’s used for code that should run only if no exceptions happened.\n",
        "    -  Finally (optional): The finally block will always run, whether an error occurred or not. It’s typically used for clean-up actions like closing files or releasing resources.\n",
        "\n",
        "13. Why is memory management important in Python?\n",
        "    - Memory management ensures that your program uses memory properly, avoiding problems like memory leaks (where memory is not freed up) or slow performance due to inefficient use of memory.\n",
        "    - It helps your program run faster by making sure memory is allocated when needed and cleaned up when no longer required.\n",
        "\n",
        "14. What is the role of try and except in exception handling?\n",
        "    - In Python, try and except are used for exception handling to manage errors in the program and ensure the program can continue running smoothly even if an error occurs.\n",
        "    - try block: This is where you write the code that might raise an exception. It’s a section of code where you anticipate potential errors.\n",
        "    - except block: This block is used to catch and handle exceptions if they occur during the execution of the code in the try block. You can specify the type of exception you want to catch, or catch all exceptions generically.\n",
        "\n",
        "15. How does Python's garbage collection system work?\n",
        "    - In simple terms, Python's garbage collection system automatically manages memory by cleaning up objects that are no longer needed.\n",
        "      - Reference Counting:\n",
        "        - Every object keeps track of how many references (variables) are pointing to it.\n",
        "        - When there are no more references to an object, it’s automatically deleted to free memory.\n",
        "      - Cyclic Garbage Collection:\n",
        "        - If objects reference each other in a loop (a cycle), reference counting alone can’t clean them up.\n",
        "        - Python also uses a system to detect and remove these cycles.\n",
        "      - Automatic Cleanup:\n",
        "        - Python's garbage collector runs automatically in the background, checking for objects with zero references or cyclic references.\n",
        "        - You can also manually invoke garbage collection using the gc module, which provides functions to interact with the garbage collection process.\n",
        "\n",
        "16. What is the purpose of the else block in exception handling?\n",
        "    - The else block in exception handling runs only if no exceptions occur in the try block. It's used to execute code when everything in the try block works as expected, separating normal code flow from error handling.\n",
        "\n",
        "17. What are the common logging levels in Python?\n",
        "    - In Python, the common logging levels are:\n",
        "      - DEBUG: Detailed information, typically useful for diagnosing problems. It’s the lowest level.\n",
        "      - INFO: General information about the program's execution, like confirming the program is working as expected.\n",
        "      - WARNING: Indicates a potential problem or something unexpected, but the program is still working.\n",
        "      - ERROR: Indicates a serious problem that affects the program's operation but doesn't stop it entirely.\n",
        "      - CRITICAL: A very serious error that might cause the program to stop.\n",
        "\n",
        "18. What is the difference between os.fork() and multiprocessing in Python?\n",
        "    - os.fork(): Creates a child process by duplicating the current process. It's available only on Unix-like systems and is low-level, directly  creating a new process.\n",
        "    - multiprocessing: A higher-level module that provides an easy way to create and manage multiple processes. It works across platforms (including Windows) and offers additional features like process synchronization.\n",
        "    - In short, os.fork() is a lower-level system call, while multiprocessing provides a more flexible, cross-platform way to handle processes in Python.\n",
        "\n",
        "19. What is the importance of closing a file in Python?\n",
        "    - Closing a file in Python is important because it releases system resources, ensures all data is saved properly, and prevents memory leaks. You can automatically close a file using the with statement.\n",
        "    - Example:\n",
        "            file = open(\"file.txt\", \"w\")\n",
        "            file.write(\"Hello, world!\")\n",
        "            file.close()\n",
        "\n",
        "    - Using a with statement automatically closes the file after the block is executed:\n",
        "           with open(\"file.txt\", \"w\") as file:\n",
        "               file.write(\"Hello, world!\")\n",
        "\n",
        "20. What is the difference between file.read() and file.readline() in Python?\n",
        "    - file.read(): Reads the entire content of the file as one string. It’s useful when you want to process the whole file at once.\n",
        "    - Example:\n",
        "            with open(\"file.txt\", \"r\") as file:\n",
        "                content = file.read()  # Reads all content at once\n",
        "\n",
        "    - file.readline(): Reads one line at a time from the file. It’s useful when you want to process the file line by line.\n",
        "    - Example:\n",
        "            with open(\"file.txt\", \"r\") as file:\n",
        "                line = file.readline()  # Reads one line at a time\n",
        "\n",
        "21. What is the logging module in Python used for?\n",
        "    - The logging module in Python is used to record log messages from your program, helping to track events, errors, and information during execution. It provides a flexible way to output logs to different destinations like the console, files, or external systems.\n",
        "    - Example:\n",
        "            import logging\n",
        "\n",
        "            # Set up basic configuration for logging\n",
        "            logging.basicConfig(level=logging.DEBUG, format='%(asctime)s - %(levelname)s - %(message)s')\n",
        "\n",
        "            # Logging messages with different levels\n",
        "            logging.debug(\"This is a debug message.\")\n",
        "            logging.info(\"This is an info message.\")\n",
        "            logging.warning(\"This is a warning message.\")\n",
        "            logging.error(\"This is an error message.\")\n",
        "            logging.critical(\"This is a critical message.\")\n",
        "\n",
        "22. What is the os module in Python used for in file handling?\n",
        "    - The os module in Python is used for interacting with the operating system, and in file handling, it provides functions to perform tasks like:\n",
        "      - Creating, removing, and managing directories (e.g., os.mkdir(), os.rmdir(), os.makedirs()).\n",
        "      - Checking if a file or directory exists (e.g., os.path.exists()).\n",
        "      - Renaming and removing files (e.g., os.rename(), os.remove()).\n",
        "      - Getting file properties (e.g., os.path.getsize(), os.path.isfile()).\n",
        "      - Navigating directories (e.g., os.chdir(), os.getcwd()).\n",
        "\n",
        "23. What are the challenges associated with memory management in Python?\n",
        "    - The challenges with memory management in Python include:\n",
        "      - Garbage Collection Issues: Python's automatic memory cleanup can sometimes miss cleaning up objects that reference each other in a cycle, causing memory leaks.\n",
        "      - Memory Overhead: Python objects can take up more memory than in lower-level languages due to extra information stored with each object.\n",
        "      - Reference Counting: Python uses reference counting to track objects, but cycles between objects can prevent memory from being freed.\n",
        "      - Global Interpreter Lock (GIL): In multi-threading, the GIL can limit memory efficiency and performance.\n",
        "      - Handling Large Objects: Large data structures can use a lot of memory, which can lead to inefficiency or require manual management.\n",
        "\n",
        "24. How do you raise an exception manually in Python?\n",
        "    - In Python, you can raise an exception manually using the raise keyword. This allows you to trigger an exception intentionally in your code.\n",
        "    - Synatx:\n",
        "           raise Exception(\"Error message\")\n",
        "    - Example:\n",
        "            def check_age(age):\n",
        "                if age < 18:\n",
        "                    raise ValueError(\"Age must be 18 or older!\")\n",
        "                else:\n",
        "                    print(\"Age is valid.\")\n",
        "\n",
        "           try:\n",
        "               check_age(15)\n",
        "           except ValueError as e:\n",
        "               print(f\"Error: {e}\")  #output: Error: Age must be 18 or older!\n",
        "\n",
        "25. Why is it important to use multithreading in certain applications?\n",
        "    - Multithreading is important because it allows applications to run multiple tasks simultaneously, improving performance, responsiveness, and better utilization of CPU resources, especially in I/O-bound tasks.\n",
        "      - Improved Performance: Enables concurrent execution of tasks, enhancing overall speed.\n",
        "      - Responsiveness: Keeps applications, especially those with UIs, responsive during background operations.\n",
        "      - Resource Utilization: Makes better use of multi-core processors.\n",
        "      - Efficient Task Management: Handles multiple tasks, particularly I/O-bound ones, simultaneously.\n",
        "\n",
        "\n",
        "\n",
        "\n",
        "\n",
        "\n",
        "\n",
        "\n",
        "\n",
        "  \n",
        "\n",
        "\n",
        "\n"
      ],
      "metadata": {
        "id": "4tC6VqrIjlI0"
      }
    },
    {
      "cell_type": "markdown",
      "source": [
        "Practical Questions"
      ],
      "metadata": {
        "id": "GupnxMrcjd8I"
      }
    },
    {
      "cell_type": "code",
      "source": [
        "#1. How can you open a file for writing in Python and write a string to it?\n",
        "#ans.\n",
        "with open(\"file.txt\", \"w\") as file:\n",
        "    file.write(\"This is the first line of code\")"
      ],
      "metadata": {
        "id": "grAQ5hn7ji_T"
      },
      "execution_count": null,
      "outputs": []
    },
    {
      "cell_type": "code",
      "source": [
        "#2. Write a Python program to read the contents of a file and print each line?\n",
        "#ans.\n",
        "with open(\"file.txt\", \"r\") as file:\n",
        "    for line in file:\n",
        "        print(line.strip())"
      ],
      "metadata": {
        "colab": {
          "base_uri": "https://localhost:8080/"
        },
        "id": "fWYNsinfkSxf",
        "outputId": "77d6cf57-0a45-4027-ae0c-b9a4c6afe39e"
      },
      "execution_count": null,
      "outputs": [
        {
          "output_type": "stream",
          "name": "stdout",
          "text": [
            "This is the first line of code\n"
          ]
        }
      ]
    },
    {
      "cell_type": "code",
      "source": [
        "#3. How would you handle a case where the file doesn't exist while trying to open it for reading?\n",
        "#ans.\n",
        "try:\n",
        "    f = open(\"example5.txt\", \"r\")\n",
        "    f.read()\n",
        "except FileNotFoundError as e:\n",
        "    print(\"The following file was not created, please re run the code\", e)"
      ],
      "metadata": {
        "colab": {
          "base_uri": "https://localhost:8080/"
        },
        "id": "Q506cJkCkwhi",
        "outputId": "8461dc6f-a100-4c43-f001-5f104f3c3c8b"
      },
      "execution_count": null,
      "outputs": [
        {
          "output_type": "stream",
          "name": "stdout",
          "text": [
            "The following file was not created, please re run the code [Errno 2] No such file or directory: 'example5.txt'\n"
          ]
        }
      ]
    },
    {
      "cell_type": "code",
      "source": [
        "#4. Write a Python script that reads from one file and writes its content to another file.\n",
        "#ans.\n",
        "with open(\"file.txt\", \"r\") as source_file, open(\"destination.txt\", \"w\") as destination_file:\n",
        "    for line in source_file:\n",
        "        destination_file.write(line)\n",
        "\n",
        "print(\"Content has been copied from 'source.txt' to 'destination.txt'.\")"
      ],
      "metadata": {
        "colab": {
          "base_uri": "https://localhost:8080/"
        },
        "id": "z2i0RgT8lyc9",
        "outputId": "243359ee-c461-44c5-aad7-f2c55a26280f"
      },
      "execution_count": null,
      "outputs": [
        {
          "output_type": "stream",
          "name": "stdout",
          "text": [
            "Content has been copied from 'source.txt' to 'destination.txt'.\n"
          ]
        }
      ]
    },
    {
      "cell_type": "code",
      "source": [
        "#5. How would you catch and handle division by zero error in Python?\n",
        "#ans.\n",
        "try:\n",
        "    10/0 #suspicion\n",
        "except ZeroDivisionError as e:\n",
        "    print(\"Here I am handling the zero division error\", e)"
      ],
      "metadata": {
        "colab": {
          "base_uri": "https://localhost:8080/"
        },
        "id": "mYmI1VHHpzuJ",
        "outputId": "5f539982-d64c-4a1f-a608-f3ef1f42c4b0"
      },
      "execution_count": null,
      "outputs": [
        {
          "output_type": "stream",
          "name": "stdout",
          "text": [
            "Here I am handling the zero division error division by zero\n"
          ]
        }
      ]
    },
    {
      "cell_type": "code",
      "source": [
        "#6. Write a Python program that logs an error message to a log file when a division by zero exception occurs.\n",
        "#ans.\n",
        "import logging\n",
        "\n",
        "# Configure logging\n",
        "logging.basicConfig(filename=\"error.log\", level=logging.ERROR)\n",
        "\n",
        "try:\n",
        "    # Attempt division\n",
        "    result = 10 / 0\n",
        "except ZeroDivisionError:\n",
        "    # Log the error\n",
        "    logging.error(\"Division by zero occurred.\")\n",
        "    print(\"An error occurred. Check 'error.log' for details.\")"
      ],
      "metadata": {
        "colab": {
          "base_uri": "https://localhost:8080/"
        },
        "id": "YQpZvgZGrYL8",
        "outputId": "3ad565bb-4ed6-4e2b-9428-627e8059e716"
      },
      "execution_count": null,
      "outputs": [
        {
          "output_type": "stream",
          "name": "stderr",
          "text": [
            "ERROR:root:Division by zero occurred.\n"
          ]
        },
        {
          "output_type": "stream",
          "name": "stdout",
          "text": [
            "An error occurred. Check 'error.log' for details.\n"
          ]
        }
      ]
    },
    {
      "cell_type": "code",
      "source": [
        "#7. How do you log information at different levels (INFO, ERROR, WARNING) in Python using the logging module?\n",
        "#ans.\n",
        "import logging\n",
        "\n",
        "# Configure logging\n",
        "logging.basicConfig(filename=\"app.log\", level=logging.DEBUG, format=\"%(asctime)s - %(levelname)s - %(message)s\")\n",
        "\n",
        "# Log messages at different levels\n",
        "logging.debug(\"This is a DEBUG message, useful for debugging.\")\n",
        "logging.info(\"This is an INFO message, providing general information.\")\n",
        "logging.warning(\"This is a WARNING message, indicating a potential issue.\")\n",
        "logging.error(\"This is an ERROR message, indicating something went wrong.\")\n",
        "logging.critical(\"This is a CRITICAL message, indicating a severe problem.\")"
      ],
      "metadata": {
        "colab": {
          "base_uri": "https://localhost:8080/"
        },
        "id": "x3-5S3tWsPzn",
        "outputId": "c5b9cc89-37b8-42c7-d3e4-6c130c3d27a2"
      },
      "execution_count": null,
      "outputs": [
        {
          "output_type": "stream",
          "name": "stderr",
          "text": [
            "WARNING:root:This is a WARNING message, indicating a potential issue.\n",
            "ERROR:root:This is an ERROR message, indicating something went wrong.\n",
            "CRITICAL:root:This is a CRITICAL message, indicating a severe problem.\n"
          ]
        }
      ]
    },
    {
      "cell_type": "code",
      "source": [
        "#8. Write a program to handle a file opening error using exception handling.\n",
        "#ans.\n",
        "try:\n",
        "    # Attempt to open a file\n",
        "    with open(\"file.txt1\", \"r\") as file:\n",
        "        content = file.read()\n",
        "        print(content)\n",
        "except FileNotFoundError:\n",
        "    # Handle the error when the file is not found\n",
        "    print(\"Error: The file does not exist.\")"
      ],
      "metadata": {
        "colab": {
          "base_uri": "https://localhost:8080/"
        },
        "id": "5IcioDp1sv1I",
        "outputId": "15c73016-2128-4d9b-cb6d-6729707f7843"
      },
      "execution_count": null,
      "outputs": [
        {
          "output_type": "stream",
          "name": "stdout",
          "text": [
            "Error: The file does not exist.\n"
          ]
        }
      ]
    },
    {
      "cell_type": "code",
      "source": [
        "#9. How can you read a file line by line and store its content in a list in Python?\n",
        "#ans.\n",
        "file = open(\"file1.txt\", \"w\")\n",
        "file.write(\"This is my first line\\n\")\n",
        "file.write(\"This is my second line\\n\")\n",
        "file.write(\"This is my third line\\n\")\n",
        "file.write(\"This is my fourth line\\n\")\n",
        "file.close()"
      ],
      "metadata": {
        "id": "4bzLWcx0tmt3"
      },
      "execution_count": null,
      "outputs": []
    },
    {
      "cell_type": "code",
      "source": [
        "f = open(\"file1.txt\", 'r')\n",
        "print(f.readlines()) #all the lines will be the element of a list\n",
        "f.close()"
      ],
      "metadata": {
        "colab": {
          "base_uri": "https://localhost:8080/"
        },
        "id": "r88YtyoGuZC7",
        "outputId": "bb74f4a6-fab2-4b1b-a359-c0217a29e133"
      },
      "execution_count": null,
      "outputs": [
        {
          "output_type": "stream",
          "name": "stdout",
          "text": [
            "['This is my first line\\n', 'This is my second line\\n', 'This is my third line\\n', 'This is my fourth line\\n']\n"
          ]
        }
      ]
    },
    {
      "cell_type": "code",
      "source": [
        "#10. How can you append data to an existing file in Python?\n",
        "#ans.\n",
        "file = open(\"file1.txt\", \"w\")\n",
        "file.write(\"This is my first line\\n\")\n",
        "file.write(\"This is my second line\\n\")\n",
        "file.write(\"This is my third line\\n\")\n",
        "file.write(\"This is my fourth line\\n\")\n",
        "file.close()"
      ],
      "metadata": {
        "id": "sFi-JwFGud_t"
      },
      "execution_count": null,
      "outputs": []
    },
    {
      "cell_type": "code",
      "source": [
        "file = open(\"file1.txt\", \"a\") #append the new line\n",
        "file.write(\"This is my fifth line\")\n",
        "file.close()"
      ],
      "metadata": {
        "id": "ZMHTE7_7vKeJ"
      },
      "execution_count": null,
      "outputs": []
    },
    {
      "cell_type": "code",
      "source": [
        "f = open(\"file1.txt\", 'r')\n",
        "print(f.readlines()) #all the lines will be the element of a list\n",
        "f.close()"
      ],
      "metadata": {
        "colab": {
          "base_uri": "https://localhost:8080/"
        },
        "id": "8te_p-B0vNuW",
        "outputId": "34b02a3e-f7da-4fc9-d843-675fd6c711f6"
      },
      "execution_count": null,
      "outputs": [
        {
          "output_type": "stream",
          "name": "stdout",
          "text": [
            "['This is my first line\\n', 'This is my second line\\n', 'This is my third line\\n', 'This is my fourth line\\n', 'This is my fifth line']\n"
          ]
        }
      ]
    },
    {
      "cell_type": "code",
      "source": [
        "#11. Write a Python program that uses a try-except block to handle an error when attempting to access a dictionary key that doesn't exist.\n",
        "#ans.\n",
        "d = {\"name\": \"Chandan Singh\", \"Course\": \"Data Analytics\"}"
      ],
      "metadata": {
        "id": "Zs8wnovvvQLr"
      },
      "execution_count": null,
      "outputs": []
    },
    {
      "cell_type": "code",
      "source": [
        "d"
      ],
      "metadata": {
        "colab": {
          "base_uri": "https://localhost:8080/"
        },
        "id": "UMpSecSwv98y",
        "outputId": "180d5408-c358-4bf0-b71f-bac878b92aae"
      },
      "execution_count": null,
      "outputs": [
        {
          "output_type": "execute_result",
          "data": {
            "text/plain": [
              "{'name': 'Chandan Singh', 'Course': 'Data Analytics'}"
            ]
          },
          "metadata": {},
          "execution_count": 15
        }
      ]
    },
    {
      "cell_type": "code",
      "source": [
        "try:\n",
        "    d = {\"name\": \"Chandan\", \"Course\": \"Data Analytics\"}\n",
        "    d[\"Age\"]\n",
        "except KeyError as e:\n",
        "    print(\"The key is not found\", e)"
      ],
      "metadata": {
        "colab": {
          "base_uri": "https://localhost:8080/"
        },
        "id": "ttmYwl2Zv-Zv",
        "outputId": "8528e640-281e-4166-f92c-1abfe28d270a"
      },
      "execution_count": null,
      "outputs": [
        {
          "output_type": "stream",
          "name": "stdout",
          "text": [
            "The key is not found 'Age'\n"
          ]
        }
      ]
    },
    {
      "cell_type": "code",
      "source": [
        "#12. Write a program that demonstrates using multiple except blocks to handle different types of exceptions.\n",
        "#ans.\n",
        "try:\n",
        "    10/0\n",
        "except ZeroDivisionError as e:\n",
        "    print(\"The divison is not possible due to the error>>\", e)\n",
        "except TypeError as e:\n",
        "    print(\"This is Type error>>\", e)"
      ],
      "metadata": {
        "colab": {
          "base_uri": "https://localhost:8080/"
        },
        "id": "xj2ehgfywCkY",
        "outputId": "f23729bb-640b-4faa-97b8-27e7273fce5d"
      },
      "execution_count": null,
      "outputs": [
        {
          "output_type": "stream",
          "name": "stdout",
          "text": [
            "The divison is not possible due to the error>> division by zero\n"
          ]
        }
      ]
    },
    {
      "cell_type": "code",
      "source": [
        "try:\n",
        "    10/\"some string\"\n",
        "except ZeroDivisionError as e:\n",
        "    print(\"The divison is not possible due to the error>>\", e)\n",
        "except TypeError as e:\n",
        "    print(\"This is Type error>>\", e)"
      ],
      "metadata": {
        "colab": {
          "base_uri": "https://localhost:8080/"
        },
        "id": "c8SEX1ANwips",
        "outputId": "723152ce-9098-44c7-8489-87e7378f0b50"
      },
      "execution_count": null,
      "outputs": [
        {
          "output_type": "stream",
          "name": "stdout",
          "text": [
            "This is Type error>> unsupported operand type(s) for /: 'int' and 'str'\n"
          ]
        }
      ]
    },
    {
      "cell_type": "code",
      "source": [
        "#13. How would you check if a file exists before attempting to read it in Python?\n",
        "#ans.\n",
        "import os\n",
        "\n",
        "file_path = \"file2.txt\"\n",
        "\n",
        "if os.path.exists(file_path):\n",
        "    with open(file_path, \"r\") as file:\n",
        "        content = file.read()\n",
        "        print(content)\n",
        "else:\n",
        "    print(f\"Error: The file '{file_path}' does not exist.\")"
      ],
      "metadata": {
        "colab": {
          "base_uri": "https://localhost:8080/"
        },
        "id": "bAMR18ZRwmLl",
        "outputId": "e935ef1d-d65d-4271-e573-fc444265cd7a"
      },
      "execution_count": null,
      "outputs": [
        {
          "output_type": "stream",
          "name": "stdout",
          "text": [
            "Error: The file 'file2.txt' does not exist.\n"
          ]
        }
      ]
    },
    {
      "cell_type": "code",
      "source": [
        "#14. Write a program that uses the logging module to log both informational and error messages.\n",
        "#ans.\n",
        "import logging\n",
        "\n",
        "# Configure logging\n",
        "logging.basicConfig(filename=\"file.log\", level=logging.INFO)\n",
        "\n",
        "# Log an informational message\n",
        "logging.info(\"This is an informational message.\")\n",
        "\n",
        "try:\n",
        "    # Simulate an error (division by zero)\n",
        "    result = 10 / 0\n",
        "except ZeroDivisionError:\n",
        "    # Log an error message\n",
        "    logging.error(\"Error: Division by zero occurred.\")"
      ],
      "metadata": {
        "colab": {
          "base_uri": "https://localhost:8080/"
        },
        "id": "-1pyD9ugxCTy",
        "outputId": "c4126d15-62e1-4324-b6af-4666c344c064"
      },
      "execution_count": null,
      "outputs": [
        {
          "output_type": "stream",
          "name": "stderr",
          "text": [
            "ERROR:root:Error: Division by zero occurred.\n"
          ]
        }
      ]
    },
    {
      "cell_type": "code",
      "source": [
        "#15. Write a Python program that prints the content of a file and handles the case when the file is empty.\n",
        "#ans.\n",
        "try:\n",
        "    with open(\"file3.txt\", \"r\") as file:\n",
        "        content = file.read()\n",
        "        if content:\n",
        "            print(content)\n",
        "        else:\n",
        "            print(\"The file is empty.\")\n",
        "except FileNotFoundError:\n",
        "    print(\"The file does not exist.\")"
      ],
      "metadata": {
        "colab": {
          "base_uri": "https://localhost:8080/"
        },
        "id": "DoG3nihwypOT",
        "outputId": "dc2378a8-7c79-41b8-a1f4-889e1b447ac3"
      },
      "execution_count": null,
      "outputs": [
        {
          "output_type": "stream",
          "name": "stdout",
          "text": [
            "The file does not exist.\n"
          ]
        }
      ]
    },
    {
      "cell_type": "code",
      "source": [
        "#16. Demonstrate how to use memory profiling to check the memory usage of a small program.\n",
        "#ans"
      ],
      "metadata": {
        "id": "OIkZT99M0-Oh"
      },
      "execution_count": null,
      "outputs": []
    },
    {
      "cell_type": "code",
      "source": [
        "!pip install memory-profiler"
      ],
      "metadata": {
        "colab": {
          "base_uri": "https://localhost:8080/"
        },
        "id": "e1zuj3dOzklb",
        "outputId": "6f639c42-0d29-4576-d613-0eb10531e0ad"
      },
      "execution_count": null,
      "outputs": [
        {
          "output_type": "stream",
          "name": "stdout",
          "text": [
            "Requirement already satisfied: memory-profiler in /usr/local/lib/python3.10/dist-packages (0.61.0)\n",
            "Requirement already satisfied: psutil in /usr/local/lib/python3.10/dist-packages (from memory-profiler) (5.9.5)\n"
          ]
        }
      ]
    },
    {
      "cell_type": "code",
      "source": [
        "from memory_profiler import memory_usage\n",
        "\n",
        "def my_function():\n",
        "    a = [i for i in range(1000)]  # Create a list of 1000 integers\n",
        "    b = [i * 2 for i in a]         # Create another list by doubling each element\n",
        "    return sum(b)                  # Return the sum of the list\n",
        "\n",
        "# Measure memory usage of the function\n",
        "mem_usage = memory_usage(my_function)\n",
        "\n",
        "print(f\"Memory usage (in MiB): {mem_usage}\")"
      ],
      "metadata": {
        "colab": {
          "base_uri": "https://localhost:8080/"
        },
        "id": "f1SdO6YhzMgJ",
        "outputId": "d1392ec0-10f2-4505-bc32-f6c37012257f"
      },
      "execution_count": null,
      "outputs": [
        {
          "output_type": "stream",
          "name": "stdout",
          "text": [
            "Memory usage (in MiB): [99.484375, 99.484375, 99.484375]\n"
          ]
        }
      ]
    },
    {
      "cell_type": "code",
      "source": [
        "#17. Write a Python program to create and write a list of numbers to a file, one number per line.\n",
        "#ans.\n",
        "numbers = [1, 2, 3, 4, 5]\n",
        "\n",
        "with open(\"numbers.txt\", \"w\") as file:\n",
        "    for number in numbers:\n",
        "        file.write(str(number) + \"\\n\")\n",
        "\n",
        "print(\"Numbers written to 'numbers.txt'.\")"
      ],
      "metadata": {
        "colab": {
          "base_uri": "https://localhost:8080/"
        },
        "id": "-dTKRmnw0gcN",
        "outputId": "881d0c2e-18fd-4a55-b5b6-f8e138fb4c35"
      },
      "execution_count": null,
      "outputs": [
        {
          "output_type": "stream",
          "name": "stdout",
          "text": [
            "Numbers written to 'numbers.txt'.\n"
          ]
        }
      ]
    },
    {
      "cell_type": "code",
      "source": [
        "#18. How would you implement a basic logging setup that logs to a file with rotation after 1MB?\n",
        "#ans.\n",
        "import logging\n",
        "from logging.handlers import RotatingFileHandler\n",
        "\n",
        "# Set up the rotating file handler\n",
        "handler = RotatingFileHandler(\"app.log\", maxBytes=1*1024*1024, backupCount=3)\n",
        "\n",
        "# Set up basic logging\n",
        "logging.basicConfig(level=logging.INFO, handlers=[handler])\n",
        "\n",
        "# Log some messages\n",
        "logging.info(\"This is an info message.\")"
      ],
      "metadata": {
        "id": "Gd881Wvc2Fhl"
      },
      "execution_count": null,
      "outputs": []
    },
    {
      "cell_type": "code",
      "source": [
        "#19. Write a program that handles both IndexError and KeyError using a try-except block.\n",
        "#ans.\n",
        "def handle_errors():\n",
        "    my_list = [1, 2, 3]\n",
        "    my_dict = {\"a\": 1, \"b\": 2}\n",
        "\n",
        "    try:\n",
        "        print(my_list[5])  # This will raise IndexError\n",
        "    except IndexError:\n",
        "        print(\"IndexError: Index out of range.\")\n",
        "\n",
        "    try:\n",
        "        print(my_dict[\"c\"])  # This will raise KeyError\n",
        "    except KeyError:\n",
        "        print(\"KeyError: Key not found.\")\n",
        "\n",
        "handle_errors()"
      ],
      "metadata": {
        "colab": {
          "base_uri": "https://localhost:8080/"
        },
        "id": "GtVu59Wu3poY",
        "outputId": "cc8694e6-f781-4f22-ef6f-bf591c60d97e"
      },
      "execution_count": null,
      "outputs": [
        {
          "output_type": "stream",
          "name": "stdout",
          "text": [
            "IndexError: Index out of range.\n",
            "KeyError: Key not found.\n"
          ]
        }
      ]
    },
    {
      "cell_type": "code",
      "source": [
        "#20. How would you open a file and read its contents using a context manager in Python?\n",
        "#ans.\n",
        "with open(\"file1.txt\", \"r\") as file:\n",
        "    content = file.read()\n",
        "\n",
        "print(content)"
      ],
      "metadata": {
        "colab": {
          "base_uri": "https://localhost:8080/"
        },
        "id": "HwAkCQBs4SIl",
        "outputId": "20df1811-2375-4595-cc14-d67e88660cdb"
      },
      "execution_count": null,
      "outputs": [
        {
          "output_type": "stream",
          "name": "stdout",
          "text": [
            "This is my first line\n",
            "This is my second line\n",
            "This is my third line\n",
            "This is my fourth line\n",
            "This is my fifth line\n"
          ]
        }
      ]
    },
    {
      "cell_type": "code",
      "source": [
        "#21. Write a Python program that reads a file and prints the number of occurrences of a specific word.\n",
        "#ans.\n",
        "def count_word(file_name, word):\n",
        "    with open(file_name, \"r\") as file:\n",
        "        content = file.read().lower()\n",
        "        return content.split().count(word.lower())"
      ],
      "metadata": {
        "id": "Gr1YxDCHEI4R"
      },
      "execution_count": null,
      "outputs": []
    },
    {
      "cell_type": "code",
      "source": [
        "file_name = \"file.txt\"\n",
        "word = \"python\"\n",
        "count = count_word(file_name, word)\n",
        "\n",
        "print(f\"The word '{word}' occurred {count} times.\")"
      ],
      "metadata": {
        "colab": {
          "base_uri": "https://localhost:8080/"
        },
        "id": "mQ7Fd-0PE3qK",
        "outputId": "e541bee7-6cec-4597-ad46-ca352ca159b4"
      },
      "execution_count": null,
      "outputs": [
        {
          "output_type": "stream",
          "name": "stdout",
          "text": [
            "The word 'python' occurred 0 times.\n"
          ]
        }
      ]
    },
    {
      "cell_type": "code",
      "source": [
        "#22. How can you check if a file is empty before attempting to read its contents.\n",
        "#ans.\n",
        "def read_file_if_not_empty(file_name):\n",
        "    with open(file_name, \"r\") as file:\n",
        "        if file.read():\n",
        "            file.seek(0)\n",
        "            content = file.read()\n",
        "            print(content)\n",
        "        else:\n",
        "            print(\"The file is empty.\")"
      ],
      "metadata": {
        "id": "0os4-T4yE9IU"
      },
      "execution_count": null,
      "outputs": []
    },
    {
      "cell_type": "code",
      "source": [
        "file_name = \"example.txt\"\n",
        "read_file_if_not_empty(file_name)"
      ],
      "metadata": {
        "colab": {
          "base_uri": "https://localhost:8080/"
        },
        "id": "kpb-CwDQFc_x",
        "outputId": "c6905796-7845-4b0e-ab58-b70dc229eb52"
      },
      "execution_count": null,
      "outputs": [
        {
          "output_type": "stream",
          "name": "stdout",
          "text": [
            "This is the first line of code\n"
          ]
        }
      ]
    },
    {
      "cell_type": "code",
      "source": [
        "#23. Write a Python program that writes to a log file when an error occurs during file handling.\n",
        "#ans.\n",
        "import logging\n",
        "\n",
        "# Set up logging to write errors to a log file\n",
        "logging.basicConfig(filename='error_log.txt', level=logging.ERROR)\n",
        "\n",
        "def handle_file():\n",
        "    try:\n",
        "        # Attempt to open and read a file\n",
        "        with open('file.txt', 'r') as file:\n",
        "            content = file.read()\n",
        "            print(content)\n",
        "    except Exception as e:\n",
        "        logging.error(f\"Error: {e}\")\n",
        "\n",
        "# Call the function\n",
        "handle_file()"
      ],
      "metadata": {
        "colab": {
          "base_uri": "https://localhost:8080/"
        },
        "id": "wpf3xboAFibg",
        "outputId": "5af0840e-2827-4cc7-fbe6-70ab1fc84bd0"
      },
      "execution_count": null,
      "outputs": [
        {
          "output_type": "stream",
          "name": "stdout",
          "text": [
            "This is the first line of code\n"
          ]
        }
      ]
    }
  ]
}